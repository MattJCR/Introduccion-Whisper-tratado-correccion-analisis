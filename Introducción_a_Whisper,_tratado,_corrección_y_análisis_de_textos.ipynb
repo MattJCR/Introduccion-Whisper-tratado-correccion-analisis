{
  "nbformat": 4,
  "nbformat_minor": 0,
  "metadata": {
    "colab": {
      "provenance": [],
      "authorship_tag": "ABX9TyMVESdxh1kNFQZVWgx+ObUR",
      "include_colab_link": true
    },
    "kernelspec": {
      "name": "python3",
      "display_name": "Python 3"
    },
    "language_info": {
      "name": "python"
    },
    "accelerator": "TPU",
    "gpuClass": "standard"
  },
  "cells": [
    {
      "cell_type": "markdown",
      "metadata": {
        "id": "view-in-github",
        "colab_type": "text"
      },
      "source": [
        "<a href=\"https://colab.research.google.com/github/MattJCR/Introduccion-Whisper-tratado-correccion-analisis/blob/master/Introducci%C3%B3n_a_Whisper%2C_tratado%2C_correcci%C3%B3n_y_an%C3%A1lisis_de_textos.ipynb\" target=\"_parent\"><img src=\"https://colab.research.google.com/assets/colab-badge.svg\" alt=\"Open In Colab\"/></a>"
      ]
    },
    {
      "cell_type": "code",
      "source": [
        "# !sudo apt update && sudo apt install ffmpeg\n",
        "!pip install --upgrade git+https://github.com/openai/whisper.git pytube pydub pyspellchecker collection nltk\n",
        "# !pip install --upgrade pytube pydub pyspellchecker collection\n",
        "# !pip install ffmpeg"
      ],
      "metadata": {
        "colab": {
          "base_uri": "https://localhost:8080/"
        },
        "id": "grAm1XRkezve",
        "outputId": "3ed0c470-c2bb-4da3-ea04-2a7ad440e50c"
      },
      "execution_count": 61,
      "outputs": [
        {
          "output_type": "stream",
          "name": "stdout",
          "text": [
            "Looking in indexes: https://pypi.org/simple, https://us-python.pkg.dev/colab-wheels/public/simple/\n",
            "Collecting git+https://github.com/openai/whisper.git\n",
            "  Cloning https://github.com/openai/whisper.git to /tmp/pip-req-build-8r7n01hk\n",
            "  Running command git clone -q https://github.com/openai/whisper.git /tmp/pip-req-build-8r7n01hk\n",
            "Requirement already satisfied: pytube in /usr/local/lib/python3.8/dist-packages (12.1.0)\n",
            "Requirement already satisfied: pydub in /usr/local/lib/python3.8/dist-packages (0.25.1)\n",
            "Requirement already satisfied: pyspellchecker in /usr/local/lib/python3.8/dist-packages (0.7.0)\n",
            "Requirement already satisfied: collection in /usr/local/lib/python3.8/dist-packages (0.1.6)\n",
            "Requirement already satisfied: nltk in /usr/local/lib/python3.8/dist-packages (3.7)\n",
            "Requirement already satisfied: numpy in /usr/local/lib/python3.8/dist-packages (from whisper==1.0) (1.21.6)\n",
            "Requirement already satisfied: torch in /usr/local/lib/python3.8/dist-packages (from whisper==1.0) (1.12.1+cu113)\n",
            "Requirement already satisfied: tqdm in /usr/local/lib/python3.8/dist-packages (from whisper==1.0) (4.64.1)\n",
            "Requirement already satisfied: more-itertools in /usr/local/lib/python3.8/dist-packages (from whisper==1.0) (9.0.0)\n",
            "Requirement already satisfied: transformers>=4.19.0 in /usr/local/lib/python3.8/dist-packages (from whisper==1.0) (4.25.1)\n",
            "Requirement already satisfied: ffmpeg-python==0.2.0 in /usr/local/lib/python3.8/dist-packages (from whisper==1.0) (0.2.0)\n",
            "Requirement already satisfied: future in /usr/local/lib/python3.8/dist-packages (from ffmpeg-python==0.2.0->whisper==1.0) (0.16.0)\n",
            "Requirement already satisfied: requests in /usr/local/lib/python3.8/dist-packages (from transformers>=4.19.0->whisper==1.0) (2.23.0)\n",
            "Requirement already satisfied: tokenizers!=0.11.3,<0.14,>=0.11.1 in /usr/local/lib/python3.8/dist-packages (from transformers>=4.19.0->whisper==1.0) (0.13.2)\n",
            "Requirement already satisfied: huggingface-hub<1.0,>=0.10.0 in /usr/local/lib/python3.8/dist-packages (from transformers>=4.19.0->whisper==1.0) (0.11.1)\n",
            "Requirement already satisfied: packaging>=20.0 in /usr/local/lib/python3.8/dist-packages (from transformers>=4.19.0->whisper==1.0) (21.3)\n",
            "Requirement already satisfied: pyyaml>=5.1 in /usr/local/lib/python3.8/dist-packages (from transformers>=4.19.0->whisper==1.0) (6.0)\n",
            "Requirement already satisfied: regex!=2019.12.17 in /usr/local/lib/python3.8/dist-packages (from transformers>=4.19.0->whisper==1.0) (2022.6.2)\n",
            "Requirement already satisfied: filelock in /usr/local/lib/python3.8/dist-packages (from transformers>=4.19.0->whisper==1.0) (3.8.0)\n",
            "Requirement already satisfied: typing-extensions>=3.7.4.3 in /usr/local/lib/python3.8/dist-packages (from huggingface-hub<1.0,>=0.10.0->transformers>=4.19.0->whisper==1.0) (4.1.1)\n",
            "Requirement already satisfied: pyparsing!=3.0.5,>=2.0.2 in /usr/local/lib/python3.8/dist-packages (from packaging>=20.0->transformers>=4.19.0->whisper==1.0) (3.0.9)\n",
            "Requirement already satisfied: joblib in /usr/local/lib/python3.8/dist-packages (from nltk) (1.2.0)\n",
            "Requirement already satisfied: click in /usr/local/lib/python3.8/dist-packages (from nltk) (7.1.2)\n",
            "Requirement already satisfied: idna<3,>=2.5 in /usr/local/lib/python3.8/dist-packages (from requests->transformers>=4.19.0->whisper==1.0) (2.10)\n",
            "Requirement already satisfied: certifi>=2017.4.17 in /usr/local/lib/python3.8/dist-packages (from requests->transformers>=4.19.0->whisper==1.0) (2022.9.24)\n",
            "Requirement already satisfied: chardet<4,>=3.0.2 in /usr/local/lib/python3.8/dist-packages (from requests->transformers>=4.19.0->whisper==1.0) (3.0.4)\n",
            "Requirement already satisfied: urllib3!=1.25.0,!=1.25.1,<1.26,>=1.21.1 in /usr/local/lib/python3.8/dist-packages (from requests->transformers>=4.19.0->whisper==1.0) (1.24.3)\n"
          ]
        }
      ]
    },
    {
      "cell_type": "code",
      "source": [
        "# Import the required packages\n",
        "from pytube import YouTube\n",
        "# import ffmpeg\n",
        "import whisper\n",
        "import numpy as np\n",
        "import pandas as pd\n",
        "from spellchecker import SpellChecker\n",
        "import re\n",
        "from collections import Counter\n",
        "import nltk\n",
        "nltk.download('stopwords')\n",
        "nltk.download('averaged_perceptron_tagger')\n",
        "nltk.download('punkt')\n",
        "nltk.download('universal_tagset')"
      ],
      "metadata": {
        "colab": {
          "base_uri": "https://localhost:8080/"
        },
        "id": "WzN_DkoDl7yx",
        "outputId": "076ea47e-11ab-413f-a97f-c8fa81c503f4"
      },
      "execution_count": 62,
      "outputs": [
        {
          "output_type": "stream",
          "name": "stderr",
          "text": [
            "[nltk_data] Downloading package stopwords to /root/nltk_data...\n",
            "[nltk_data]   Package stopwords is already up-to-date!\n",
            "[nltk_data] Downloading package averaged_perceptron_tagger to\n",
            "[nltk_data]     /root/nltk_data...\n",
            "[nltk_data]   Package averaged_perceptron_tagger is already up-to-\n",
            "[nltk_data]       date!\n",
            "[nltk_data] Downloading package punkt to /root/nltk_data...\n",
            "[nltk_data]   Package punkt is already up-to-date!\n",
            "[nltk_data] Downloading package universal_tagset to /root/nltk_data...\n",
            "[nltk_data]   Package universal_tagset is already up-to-date!\n"
          ]
        },
        {
          "output_type": "execute_result",
          "data": {
            "text/plain": [
              "True"
            ]
          },
          "metadata": {},
          "execution_count": 62
        }
      ]
    },
    {
      "cell_type": "code",
      "source": [
        "\n",
        "# download the video using pytube\n",
        "yt = YouTube(\"https://www.youtube.com/watch?v=AHPrLLrCa7Y\")\n",
        "video = yt.streams.first().download()\n",
        "video.title()"
      ],
      "metadata": {
        "colab": {
          "base_uri": "https://localhost:8080/",
          "height": 35
        },
        "id": "U17hotSDRO67",
        "outputId": "00f48da1-67ce-4cce-bb4c-958d75ac327d"
      },
      "execution_count": 63,
      "outputs": [
        {
          "output_type": "execute_result",
          "data": {
            "text/plain": [
              "'/Content/Todo Harry Potter  Resumen En 1 Minuto.3Gpp'"
            ],
            "application/vnd.google.colaboratory.intrinsic+json": {
              "type": "string"
            }
          },
          "metadata": {},
          "execution_count": 63
        }
      ]
    },
    {
      "cell_type": "code",
      "source": [
        "for x in whisper.available_models(): print(x) "
      ],
      "metadata": {
        "id": "8vJ22luNnLOh",
        "colab": {
          "base_uri": "https://localhost:8080/"
        },
        "outputId": "1c284a60-9af0-4dc5-c2f1-873450d9621d"
      },
      "execution_count": 64,
      "outputs": [
        {
          "output_type": "stream",
          "name": "stdout",
          "text": [
            "tiny.en\n",
            "tiny\n",
            "base.en\n",
            "base\n",
            "small.en\n",
            "small\n",
            "medium.en\n",
            "medium\n",
            "large-v1\n",
            "large-v2\n",
            "large\n"
          ]
        }
      ]
    },
    {
      "cell_type": "code",
      "source": [
        "# load the downloaded video using whisper\n",
        "audio = whisper.load_audio(video)\n",
        "\n",
        "# transcribe the audio using whisper's medium model\n",
        "model = whisper.load_model(\"medium\")\n",
        "print(\n",
        "    f\"Model is {'multilingual' if model.is_multilingual else 'English-only'} \",\n",
        "    f\"and has {sum(np.prod(p.shape) for p in model.parameters()):,} parameters.\"\n",
        ")\n",
        "\n"
      ],
      "metadata": {
        "id": "DeCN7bCShSI0",
        "colab": {
          "base_uri": "https://localhost:8080/"
        },
        "outputId": "ad3ed415-2805-41aa-f414-e52657e72b8e"
      },
      "execution_count": 65,
      "outputs": [
        {
          "output_type": "stream",
          "name": "stdout",
          "text": [
            "Model is multilingual  and has 762,321,920 parameters.\n"
          ]
        }
      ]
    },
    {
      "cell_type": "code",
      "source": [
        "# load audio and pad/trim it to fit 30 seconds\n",
        "audio_part = whisper.pad_or_trim(audio)\n",
        "\n",
        "# make log-Mel spectrogram and move to the same device as the model\n",
        "mel = whisper.log_mel_spectrogram(audio_part).to(model.device)\n",
        "\n",
        "# detect the spoken language\n",
        "_, probs = model.detect_language(mel)\n",
        "language = max(probs, key=probs.get)\n",
        "print(f\"Detected language: {language}\")\n",
        "\n",
        "# load the spelling corrector\n",
        "corrector = SpellChecker(language=language)"
      ],
      "metadata": {
        "id": "z88RVhbx1-77",
        "colab": {
          "base_uri": "https://localhost:8080/"
        },
        "outputId": "00c2a449-e95b-41da-d57b-f2dce247a05b"
      },
      "execution_count": 66,
      "outputs": [
        {
          "output_type": "stream",
          "name": "stdout",
          "text": [
            "Detected language: es\n"
          ]
        }
      ]
    },
    {
      "cell_type": "code",
      "source": [
        "result = model.transcribe(audio=audio)"
      ],
      "metadata": {
        "id": "ya40b-76ouuW",
        "colab": {
          "base_uri": "https://localhost:8080/"
        },
        "outputId": "80e171d9-e23a-47ed-ca47-3d79077851ae"
      },
      "execution_count": 67,
      "outputs": [
        {
          "output_type": "stream",
          "name": "stderr",
          "text": [
            "/usr/local/lib/python3.8/dist-packages/whisper/transcribe.py:78: UserWarning: FP16 is not supported on CPU; using FP32 instead\n",
            "  warnings.warn(\"FP16 is not supported on CPU; using FP32 instead\")\n"
          ]
        }
      ]
    },
    {
      "cell_type": "code",
      "source": [
        "correction_text = ''\n",
        "# print the recognized text\n",
        "for text in result['text'].split('.'):\n",
        "  # correct the spelling of the mispelled words\n",
        "  text += '.'\n",
        "  correction = corrector.correction(text)\n",
        "  if(correction):\n",
        "    print('-'*20)\n",
        "    correction_text += correction\n",
        "    print('Ori:',text,'\\nCor:',correction)"
      ],
      "metadata": {
        "id": "NFDQ9CUwlwwJ",
        "colab": {
          "base_uri": "https://localhost:8080/"
        },
        "outputId": "4d6dcfbb-5531-4a51-fbe1-a507d1437974"
      },
      "execution_count": 116,
      "outputs": [
        {
          "output_type": "stream",
          "name": "stdout",
          "text": [
            "--------------------\n",
            "Ori:  Ocho películas de Harry Potter, una saga en un minuto, pero lo voy a conseguir. \n",
            "Cor:  Ocho películas de Harry Potter, una saga en un minuto, pero lo voy a conseguir.\n",
            "--------------------\n",
            "Ori:  Advertencia, este vídeo contiene spoilers. \n",
            "Cor:  Advertencia, este vídeo contiene spoilers.\n",
            "--------------------\n",
            "Ori:  Si eres alérgico a spoilers o crees que puede serlo, acude a tu sala de cine más cercana. \n",
            "Cor:  Si eres alérgico a spoilers o crees que puede serlo, acude a tu sala de cine más cercana.\n",
            "--------------------\n",
            "Ori:  Harry Potter es un niño normal que un buen día recibe una carta para ir a Hogwarts. \n",
            "Cor:  Harry Potter es un niño normal que un buen día recibe una carta para ir a Hogwarts.\n",
            "--------------------\n",
            "Ori:  ¿Y qué es Hogwarts? Es un colegio de magia supermolol. \n",
            "Cor:  ¿Y qué es Hogwarts? Es un colegio de magia supermolol.\n",
            "--------------------\n",
            "Ori:  Tiene perros gigantes de tres cabezas, de mentores que te absorben el alma y un enemigo mortal llamado Voldemort que solo te ataca el último trimestre de cada curso para que haga los examenes más tranquilos. \n",
            "Cor:  Tiene perros gigantes de tres cabezas, de mentores que te absorben el alma y un enemigo mortal llamado Voldemort que solo te ataca el último trimestre de cada curso para que haga los examenes más tranquilos.\n",
            "--------------------\n",
            "Ori:  A Harry no le está yendo nada mal en el cole. \n",
            "Cor:  A Harry no le está yendo nada mal en el cole.\n",
            "--------------------\n",
            "Ori:  Con 11 años se carga un profesor tartabudo, con 12 lucha contra un basilisco gigante y con 13, ayuda a escapar de la justicia a un fugitivo condenado por el asesinato de 20 personas. \n",
            "Cor:  Con 11 años se carga un profesor tartabudo, con 12 lucha contra un basilisco gigante y con 13, ayuda a escapar de la justicia a un fugitivo condenado por el asesinato de 20 personas.\n",
            "--------------------\n",
            "Ori:  Oye, ¿seguro que este chico es el bueno? ¿Y qué piensa sus padres? ¿A que no tiene? Bueno, el caso es que todo cambia en cuarto curso cuando Harry descubre que Voldemort ha vuelto y que ha matado a Cedric Dibory. \n",
            "Cor:  Oye, ¿seguro que este chico es el bueno? ¿Y qué piensa sus padres? ¿A que no tiene? Bueno, el caso es que todo cambia en cuarto curso cuando Harry descubre que Voldemort ha vuelto y que ha matado a Cedric Dibory.\n",
            "--------------------\n",
            "Ori:  No, ¿por qué? Ahora se convertirá en un vampiro adolescente que brilla bajo la luz del sol. \n",
            "Cor:  No, ¿por qué? Ahora se convertirá en un vampiro adolescente que brilla bajo la luz del sol.\n",
            "--------------------\n",
            "Ori:  Pero se ve que Voldemort tiene más práctica convirtiendo a tiarrones en vampiros que acabando con un chaval de 14 años. \n",
            "Cor:  Pero se ve que Voldemort tiene más práctica convirtiendo a tiarrones en vampiros que acabando con un chaval de 14 años.\n",
            "--------------------\n",
            "Ori:  Porque no va a conseguir un duelo en condiciones hasta la octava peli. \n",
            "Cor:  Porque no va a conseguir un duelo en condiciones hasta la octava peli.\n",
            "--------------------\n",
            "Ori:  Y para entonces Harry le matará con un spelearmus y tendrá la edad suficiente para abandonar el colegio que ha intentado acabar con su vida durante siete cursos, pero que por otra parte le ha dado fama, dos amigos supermolones y estupendos y una novia pelirroja. \n",
            "Cor:  Y para entonces Harry le matará con un spelearmus y tendrá la edad suficiente para abandonar el colegio que ha intentado acabar con su vida durante siete cursos, pero que por otra parte le ha dado fama, dos amigos supermolones y estupendos y una novia pelirroja.\n"
          ]
        }
      ]
    },
    {
      "cell_type": "code",
      "source": [
        "import string\n",
        "def process_text(text):\n",
        "    # remove punctuation and special characters\n",
        "    processed_text = text.translate(str.maketrans('', '', string.punctuation + '¿¡'))\n",
        "    # convert to lowercase\n",
        "    processed_text = processed_text.lower()\n",
        "    return processed_text\n",
        "    \n",
        "def count_most_common_words(processed_text):\n",
        "    # split the text into a list of words\n",
        "    words = processed_text.split()\n",
        "    # create a Counter object\n",
        "    word_counts = Counter(words)\n",
        "    # return the most common words in descending order of frequency\n",
        "    return word_counts.most_common()"
      ],
      "metadata": {
        "id": "16FQfeV4AikZ"
      },
      "execution_count": 117,
      "outputs": []
    },
    {
      "cell_type": "code",
      "source": [
        "# count the most common words\n",
        "correction_text = process_text(correction_text)\n",
        "most_common_words = count_most_common_words(correction_text)\n",
        "# print the results\n",
        "print(\"The most common words are:\")\n",
        "counter = 1\n",
        "for word, count in most_common_words:\n",
        "    print(f\"{counter}) {word}: {count}\")\n",
        "    if(counter >= 5):\n",
        "      break\n",
        "    else:\n",
        "      counter += 1"
      ],
      "metadata": {
        "id": "47GX6gDSBMHf",
        "colab": {
          "base_uri": "https://localhost:8080/"
        },
        "outputId": "9a75be2a-91ca-4778-c37a-940bbbf0c385"
      },
      "execution_count": 121,
      "outputs": [
        {
          "output_type": "stream",
          "name": "stdout",
          "text": [
            "The most common words are:\n",
            "1) que: 15\n",
            "2) un: 12\n",
            "3) a: 11\n",
            "4) de: 9\n",
            "5) y: 9\n"
          ]
        }
      ]
    },
    {
      "cell_type": "code",
      "source": [
        "correction_text"
      ],
      "metadata": {
        "colab": {
          "base_uri": "https://localhost:8080/",
          "height": 105
        },
        "id": "CgUSjgCHJedr",
        "outputId": "54510881-c3f3-4224-ade4-93dc2320814f"
      },
      "execution_count": 122,
      "outputs": [
        {
          "output_type": "execute_result",
          "data": {
            "text/plain": [
              "' ocho películas de harry potter una saga en un minuto pero lo voy a conseguir advertencia este vídeo contiene spoilers si eres alérgico a spoilers o crees que puede serlo acude a tu sala de cine más cercana harry potter es un niño normal que un buen día recibe una carta para ir a hogwarts y qué es hogwarts es un colegio de magia supermolol tiene perros gigantes de tres cabezas de mentores que te absorben el alma y un enemigo mortal llamado voldemort que solo te ataca el último trimestre de cada curso para que haga los examenes más tranquilos a harry no le está yendo nada mal en el cole con 11 años se carga un profesor tartabudo con 12 lucha contra un basilisco gigante y con 13 ayuda a escapar de la justicia a un fugitivo condenado por el asesinato de 20 personas oye seguro que este chico es el bueno y qué piensa sus padres a que no tiene bueno el caso es que todo cambia en cuarto curso cuando harry descubre que voldemort ha vuelto y que ha matado a cedric dibory no por qué ahora se convertirá en un vampiro adolescente que brilla bajo la luz del sol pero se ve que voldemort tiene más práctica convirtiendo a tiarrones en vampiros que acabando con un chaval de 14 años porque no va a conseguir un duelo en condiciones hasta la octava peli y para entonces harry le matará con un spelearmus y tendrá la edad suficiente para abandonar el colegio que ha intentado acabar con su vida durante siete cursos pero que por otra parte le ha dado fama dos amigos supermolones y estupendos y una novia pelirroja'"
            ],
            "application/vnd.google.colaboratory.intrinsic+json": {
              "type": "string"
            }
          },
          "metadata": {},
          "execution_count": 122
        }
      ]
    },
    {
      "cell_type": "code",
      "source": [
        "# Load Spanish part-of-speech tagger from nltk\n",
        "nltk.download('cess_esp')\n",
        "tagger = nltk.tag.UnigramTagger(nltk.corpus.cess_esp.tagged_sents())"
      ],
      "metadata": {
        "colab": {
          "base_uri": "https://localhost:8080/"
        },
        "id": "xBL096ZhQ6Md",
        "outputId": "e4ded786-72bc-47e3-a6d5-b36f3e0b7290"
      },
      "execution_count": 123,
      "outputs": [
        {
          "output_type": "stream",
          "name": "stderr",
          "text": [
            "[nltk_data] Downloading package cess_esp to /root/nltk_data...\n",
            "[nltk_data]   Package cess_esp is already up-to-date!\n"
          ]
        }
      ]
    },
    {
      "cell_type": "code",
      "source": [
        "# Define a function to tag a sentence with its part-of-speech\n",
        "def tag_sentence(sentence):\n",
        "    tokens = nltk.word_tokenize(sentence)\n",
        "    tagged_tokens = tagger.tag(tokens)\n",
        "    return tagged_tokens\n",
        "\n",
        "# Define a function to extract nouns, adjectives, and verbs from a tagged sentence\n",
        "def extract_pos(tagged_sentence):\n",
        "    nouns = []\n",
        "    adjectives = []\n",
        "    verbs = []\n",
        "    others = []\n",
        "    for word, pos in tagged_sentence:\n",
        "      if pos != None:\n",
        "        if pos[0] == 'n':\n",
        "            nouns.append(word)\n",
        "        elif pos[0] == 'a':\n",
        "            adjectives.append(word)\n",
        "        elif pos[0] == 'v':\n",
        "            verbs.append(word)\n",
        "        else:\n",
        "            others.append(word)\n",
        "    return nouns, adjectives, verbs, others\n",
        "\n",
        "# Define the sentence to tag and extract POS\n",
        "tagged_sentence = tag_sentence(correction_text)\n",
        "nouns, adjectives, verbs, others = extract_pos(tagged_sentence)\n",
        "# Print the results\n",
        "print(f\"Nouns: {nouns}\")\n",
        "print(f\"Adjectives: {adjectives}\")\n",
        "print(f\"Verbs: {verbs}\")\n",
        "# print(f\"Others: {others}\")"
      ],
      "metadata": {
        "colab": {
          "base_uri": "https://localhost:8080/"
        },
        "id": "QvvWXTUvbtoJ",
        "outputId": "2710e670-c44a-4fe6-8114-8e47431cbb37"
      },
      "execution_count": 124,
      "outputs": [
        {
          "output_type": "stream",
          "name": "stdout",
          "text": [
            "Nouns: ['películas', 'saga', 'minuto', 'advertencia', 'vídeo', 'cine', 'niño', 'día', 'carta', 'colegio', 'magia', 'perros', 'gigantes', 'cabezas', 'alma', 'enemigo', 'trimestre', 'curso', 'años', 'carga', 'profesor', 'lucha', 'gigante', 'ayuda', 'justicia', 'asesinato', 'personas', 'chico', 'padres', 'caso', 'curso', 'luz', 'sol', 'práctica', 'chaval', 'años', 'duelo', 'condiciones', 'edad', 'colegio', 'vida', 'cursos', 'parte', 'fama', 'amigos', 'novia']\n",
            "Adjectives: ['cercana', 'normal', 'buen', 'mortal', 'llamado', 'solo', 'último', 'seguro', 'bueno', 'bueno', 'cuarto', 'octava', 'suficiente']\n",
            "Verbs: ['voy', 'conseguir', 'contiene', 'eres', 'puede', 'acude', 'es', 'recibe', 'ir', 'es', 'es', 'tiene', 'haga', 'está', 'escapar', 'condenado', 'oye', 'es', 'piensa', 'tiene', 'es', 'cambia', 'descubre', 'ha', 'vuelto', 'ha', 'matado', 'convertirá', 've', 'tiene', 'convirtiendo', 'acabando', 'va', 'conseguir', 'tendrá', 'abandonar', 'ha', 'intentado', 'acabar', 'ha', 'dado']\n"
          ]
        }
      ]
    }
  ]
}